{
 "cells": [
  {
   "cell_type": "code",
   "execution_count": null,
   "metadata": {},
   "outputs": [],
   "source": [
    "#Run this code first. You will need to copy and paste credentials into colab\n",
    "!pip install -U -q PyDrive\n",
    "from pydrive.auth import GoogleAuth\n",
    "from pydrive.drive import GoogleDrive\n",
    "from google.colab import auth\n",
    "from google.colab import files\n",
    "from oauth2client.client import GoogleCredentials\n",
    "import os\n",
    "import pandas as pd\n",
    "auth.authenticate_user()\n",
    "gauth = GoogleAuth()\n",
    "gauth.credentials = GoogleCredentials.get_application_default()\n",
    "drive = GoogleDrive(gauth)\n",
    "\n",
    "download_path = os.path.expanduser('~/data')\n",
    "try:\n",
    "  os.makedirs(download_path)\n",
    "except FileExistsError:\n",
    "  pass"
   ]
  },
  {
   "cell_type": "code",
   "execution_count": 1,
   "metadata": {},
   "outputs": [],
   "source": [
    "def find_files(contains_string):\n",
    "    #Enter string to find files in google drive that match that string\n",
    "    #Returns list of file names/titles and ids that match that string\n",
    "    #Enter exact file name to get just that file\n",
    "    #Note that this will also search your trash in drive\n",
    "    listed = drive.ListFile({'q': f\"title contains '{contains_string}'\"}).GetList()\n",
    "    ids = []\n",
    "    titles = []\n",
    "    for file in listed:\n",
    "        print('title {}, id {}'.format(file['title'], file['id']))\n",
    "        ids.append(file['id'])\n",
    "        titles.append(file['title'])\n",
    "        \n",
    "    return title, ids"
   ]
  },
  {
   "cell_type": "code",
   "execution_count": null,
   "metadata": {},
   "outputs": [],
   "source": [
    "def get_file(title, ID):\n",
    "    #Enter title and id found from find_files function\n",
    "    #Returns file_string that can be used for loading files\n",
    "    #E.g. pd.read_csv(file_string) or np.load(file_string)\n",
    "    global download_path\n",
    "    output_file = os.path.join(download_path, title)\n",
    "    temp_file = drive.CreateFile({'id' : ID})\n",
    "    temp_file.GetContentFile(output_file)\n",
    "    \n",
    "    return output_file"
   ]
  },
  {
   "cell_type": "code",
   "execution_count": null,
   "metadata": {},
   "outputs": [],
   "source": [
    "def save_file_to_drive(filename, verbose=True):\n",
    "    #Saves file to drive\n",
    "    #File should already be saved in colab before passing filename to this function\n",
    "    #E.g. run pd.to_csv(filename) or np.save(filename, array) before this function\n",
    "    \n",
    "    uploaded = drive.CreateFile({'title': filename})\n",
    "    uploaded.SetContentFile(filename)\n",
    "    uploaded.Upload()\n",
    "    \n",
    "    if verbose:\n",
    "        print(f\"Uploaded file with ID {uploaded.get('id')}\")"
   ]
  },
  {
   "cell_type": "code",
   "execution_count": null,
   "metadata": {},
   "outputs": [],
   "source": []
  }
 ],
 "metadata": {
  "kernelspec": {
   "display_name": "Python 3",
   "language": "python",
   "name": "python3"
  },
  "language_info": {
   "codemirror_mode": {
    "name": "ipython",
    "version": 3
   },
   "file_extension": ".py",
   "mimetype": "text/x-python",
   "name": "python",
   "nbconvert_exporter": "python",
   "pygments_lexer": "ipython3",
   "version": "3.6.4"
  }
 },
 "nbformat": 4,
 "nbformat_minor": 2
}
